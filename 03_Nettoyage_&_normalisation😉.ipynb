{
 "cells": [
  {
   "cell_type": "code",
   "execution_count": 4,
   "metadata": {},
   "outputs": [],
   "source": [
    "text_en = \"\"\"\n",
    "The packgae has been delivered but is damaged (photo:\n",
    "https://i.postimg.cc/TPr4LQwY/MEA2-1.jpg). When i openned iy , \n",
    "every flask was broke :( I put 1 star because I cannot put \n",
    "-100 starts #wtf >>>>>>>>>>> dont buy this brand $$$$ \\U0001F643\n",
    "\"\"\"\n",
    "\n",
    "text_fr = \"\"\"\n",
    "Le colsi a été livré mais cabossé (photo :\n",
    "https://i.postimg.cc/TPr4LQwY/MEA2-1.jpg). Quan j'ai ouvert , \n",
    "tous les flacons été casser :( abusé je met 1 étoiles parce \n",
    "que je peux pas mettre -100 étoiles #labus >>>>>>>>>>> \n",
    "plus jamais cette marque $$$$ \\U0001F643\n",
    "\"\"\""
   ]
  },
  {
   "cell_type": "markdown",
   "metadata": {},
   "source": [
    "Dans ce contecte, nous avons 2 review de notre produit amazon, 1 en francais et un en anglais.\n",
    "\n",
    "Nous allons essayer de le normaliser et de le netoyer."
   ]
  },
  {
   "cell_type": "code",
   "execution_count": null,
   "metadata": {},
   "outputs": [],
   "source": [
    "!python -m pip install emot torch transformers sentencepiece autocorrect clean-text textblob wordfreq"
   ]
  },
  {
   "cell_type": "markdown",
   "metadata": {},
   "source": [
    "# Corrections par approches déterministes\n",
    "\n",
    "Il existe différentes façon d'effectuer des corrections \n",
    "- Les approches algorithmiques déterministes\n",
    "- Les approches de machine learning\n",
    "    - Aller chercher les models pré-existant présent sur HuggingFace 😁\n",
    "- Les approches linguistiques\n",
    "- La combinaisons des 3 "
   ]
  },
  {
   "cell_type": "code",
   "execution_count": 7,
   "metadata": {},
   "outputs": [
    {
     "name": "stdout",
     "output_type": "stream",
     "text": [
      "The package has been delivered but is damaged (photo:\n",
      "Le cols a été livré mais cabossé (photo :\n"
     ]
    }
   ],
   "source": [
    "# Approche déterministes\n",
    "from autocorrect import Speller\n",
    "\n",
    "spell_en = Speller('en')\n",
    "spell_fr = Speller('fr')\n",
    "\n",
    "print(spell_en('The packgae has been delivered but is damaged (photo:'))\n",
    "print(spell_fr('Le colsi a été livré mais cabossé (photo :'))"
   ]
  },
  {
   "cell_type": "code",
   "execution_count": 13,
   "metadata": {},
   "outputs": [
    {
     "name": "stdout",
     "output_type": "stream",
     "text": [
      "Requirement already satisfied: protobuf in ./lib/python3.11/site-packages (4.25.1)\n"
     ]
    }
   ],
   "source": [
    "!python -m pip install protobuf\n",
    "# Approches par le machine learning \n",
    "# Plus précisement avec les transformers\n",
    "from transformers import AutoTokenizer, AutoModelForSeq2SeqLM\n",
    "\n",
    "tokenizer = AutoTokenizer.from_pretrained('Bhuvana/t5-base-spellchecker')\n",
    "model = AutoModelForSeq2SeqLM.from_pretrained('Bhuvana/t5-base-spellchecker')"
   ]
  },
  {
   "cell_type": "code",
   "execution_count": 18,
   "metadata": {},
   "outputs": [],
   "source": [
    "def correcter(inputs: str, tokenizer: AutoTokenizer, model: AutoModelForSeq2SeqLM):\n",
    "    input_ids = tokenizer.encode(inputs, return_tensors='pt')\n",
    "    sample_output = model.generate(\n",
    "        input_ids,\n",
    "        do_sample               = True,\n",
    "        max_length              = 50,\n",
    "        top_p                   = 0.99,\n",
    "        num_return_sequences    = 1\n",
    "    )\n",
    "    res = tokenizer.decode(sample_output[0], skip_special_tokens=True)\n",
    "    return res"
   ]
  },
  {
   "cell_type": "code",
   "execution_count": 21,
   "metadata": {},
   "outputs": [
    {
     "name": "stdout",
     "output_type": "stream",
     "text": [
      "christmas is celebrated on december 25 every year\n",
      "i opened it all flask was broken\n"
     ]
    }
   ],
   "source": [
    "print(correcter('christmas is celbrated on decembr 25 evry ear', tokenizer, model))\n",
    "print(correcter('When i openned iy, every flask was broke', tokenizer, model))"
   ]
  },
  {
   "cell_type": "markdown",
   "metadata": {},
   "source": [
    "Comme on peut le voir, cela ne marche pas encore super bien, les recherches sont toujours en cours et les models les plus avancée sont garder secret \n",
    "\n",
    "#### Info du cours, en 2022/2021 aujourd'hui il y a des models plus puissants"
   ]
  },
  {
   "cell_type": "code",
   "execution_count": 1,
   "metadata": {},
   "outputs": [
    {
     "name": "stderr",
     "output_type": "stream",
     "text": [
      "/opt/NLP/lib/python3.11/site-packages/tqdm/auto.py:21: TqdmWarning: IProgress not found. Please update jupyter and ipywidgets. See https://ipywidgets.readthedocs.io/en/stable/user_install.html\n",
      "  from .autonotebook import tqdm as notebook_tqdm\n",
      "config.json: 100%|██████████| 1.74k/1.74k [00:00<00:00, 12.4MB/s]\n",
      "model.safetensors: 100%|██████████| 558M/558M [00:15<00:00, 36.5MB/s] \n",
      "tokenizer_config.json: 100%|██████████| 353/353 [00:00<00:00, 2.30MB/s]\n",
      "vocab.json: 100%|██████████| 798k/798k [00:00<00:00, 2.39MB/s]\n",
      "merges.txt: 100%|██████████| 456k/456k [00:00<00:00, 1.84MB/s]\n",
      "tokenizer.json: 100%|██████████| 2.11M/2.11M [00:00<00:00, 12.1MB/s]\n",
      "special_tokens_map.json: 100%|██████████| 239/239 [00:00<00:00, 1.91MB/s]\n"
     ]
    }
   ],
   "source": [
    "from transformers import pipeline\n",
    "\n",
    "fix_spelling = pipeline(\"text2text-generation\",model=\"oliverguhr/spelling-correction-english-base\")"
   ]
  },
  {
   "cell_type": "code",
   "execution_count": 2,
   "metadata": {},
   "outputs": [
    {
     "name": "stderr",
     "output_type": "stream",
     "text": [
      "/opt/NLP/lib/python3.11/site-packages/transformers/generation/utils.py:1355: UserWarning: Using the model-agnostic default `max_length` (=20) to control the generation length. We recommend setting `max_new_tokens` to control the maximum length of the generation.\n",
      "  warnings.warn(\n"
     ]
    },
    {
     "name": "stdout",
     "output_type": "stream",
     "text": [
      "[{'generated_text': 'Christmas is celebrated on December 25 every year.'}]\n",
      "[{'generated_text': 'When I opened it, every flask was broke.'}]\n"
     ]
    }
   ],
   "source": [
    "print(fix_spelling('christmas is celbrated on decembr 25 evry ear'))\n",
    "print(fix_spelling('When i openned iy, every flask was broke')) # Devrait etre was broken / were broke"
   ]
  }
 ],
 "metadata": {
  "kernelspec": {
   "display_name": "NLP",
   "language": "python",
   "name": "python3"
  },
  "language_info": {
   "codemirror_mode": {
    "name": "ipython",
    "version": 3
   },
   "file_extension": ".py",
   "mimetype": "text/x-python",
   "name": "python",
   "nbconvert_exporter": "python",
   "pygments_lexer": "ipython3",
   "version": "3.11.2"
  }
 },
 "nbformat": 4,
 "nbformat_minor": 2
}
